{
  "cells": [
    {
      "cell_type": "markdown",
      "metadata": {
        "id": "v8dYkFgtPMFA"
      },
      "source": [
        "<div style=\"width: 100%; clear: both;\">\n",
        "<div style=\"float: left; width: 50%;\">\n",
        "<img src=\"http://www.uoc.edu/portal/_resources/common/imatges/marca_UOC/UOC_Masterbrand.jpg\", align=\"left\">\n",
        "</div>\n",
        "<div style=\"float: right; width: 50%;\">\n",
        "<p style=\"margin: 0; padding-top: 22px; text-align:right;\">M2.851 · Tipología y ciclo de vida de los datos</p>\n",
        "<p style=\"margin: 0; text-align:right;\">Aula 2</p>\n",
        "<p style=\"margin: 0; text-align:right;\">Máster universitario en Ciencia de datos (<i>Data science</i>)</p>\n",
        "</div>\n",
        "</div>\n",
        "<div style=\"width:100%;\">&nbsp;</div>\n",
        "\n",
        "\n",
        "# PRA2: ¿Cómo realizar la limpieza y análisis de datos?\n",
        "\n",
        "Autores: Andrés Merino Toapanta y Mario Cueva Almeida"
      ]
    },
    {
      "cell_type": "code",
      "execution_count": null,
      "metadata": {
        "id": "0FFm1vQQPMFI"
      },
      "outputs": [],
      "source": [
        "# Librerías necesarias\n",
        "import pandas as pd\n",
        "import numpy as np\n",
        "import matplotlib.pyplot as plt\n",
        "import seaborn as sns\n",
        "from scipy.stats import normaltest, anderson, levene, pearsonr, ttest_ind, mannwhitneyu\n",
        "\n",
        "from sklearn.model_selection import train_test_split\n",
        "from sklearn.tree import DecisionTreeClassifier\n",
        "from sklearn.metrics import accuracy_score, precision_score, recall_score, f1_score, confusion_matrix"
      ]
    },
    {
      "cell_type": "markdown",
      "metadata": {
        "id": "aPeD50MiPMFJ"
      },
      "source": [
        "## 1. Descripción del dataset"
      ]
    },
    {
      "cell_type": "markdown",
      "metadata": {
        "id": "5Yd98dh1PMFK"
      },
      "source": [
        "El conjunto de datos a analizar se ha recuperado de la plataforma Kaggle ([en este enlace](https://www.kaggle.com/datasets/piterfm/fifa-football-world-cup?resource=download)) y contiene todos los resultados de los partidos de fútbol disputados en las copas mundiales de la FIFA desde 1930 hasta 2022. \n",
        "\n",
        "El conjunto de datos contiene 964 partidos (filas) y 44 variables (columnas). Las variables son:\n",
        "- `home_team`, `away_team`: Equipos local y visitante, respectivamente.\n",
        "- `home_score`, `away_score`: Marcador final del partido para cada equipo.\n",
        "- `home_xg`, `away_xg`: Goles esperados para cada equipo.\n",
        "- `home_penalty`, `away_penalty`: Número de penales a favor de cada equipo, en el desempate.\n",
        "- `home_manager`, `away_manager`: Nombre de los DT de cada equipo.\n",
        "- `home_captain`, `away_captain`: Nombre de los capitanes de cada equipo.\n",
        "- `home_goal`, `away_goal`: Nombre de los anotadores de goles de cada equipo.\n",
        "- `home_goal_long`, `away_goal_long`: Detalles de los anotadores de goles (minuto, asistente, etc.) de cada equipo.\n",
        "- `home_own_goal`, `away_own_goal`: Nombre de los anotadores de auto-goles de cada equipo.\n",
        "- `home_penalty_goal`, `away_penalty_goal`: Nombre de los anotadores de goles con penal de cada equipo.\n",
        "- `home_penalty_miss_long`, `away_penalty_miss_long`: Detalles de penales que fallaron (nombre de quién cobró, minuto, razón, etc.) de cada equipo.\n",
        "- `home_penalty_shootout_miss_long`, `away_penalty_shootout_miss_long`: Detalles de penales, en el desempate, que fallaron (nombre de quién cobró, marcador, razón, etc.).\n",
        "- `home_penalty_shootout_goal_long`, `away_penalty_shootout_goal_long`: Detalles de penales, en el desempate, que acertaron (nombre de quién cobró, marcador, etc.).\n",
        "- `home_red_card`, `away_red_card`: Detalles de tarjetas rojas dadas directamente a cada equipo.\n",
        "- `home_yellow_red_card`, `away_yellow_red_card`: Detalles de tarjetas rojas dadas por acumulación de tarjetas amarillas a cada equipo.\n",
        "- `home_yellow_card_long`, `away_yellow_card_long`: Detalles de tarjetas amarillas dadas a cada equipo.\n",
        "- `home_substitute_in_long`, `away_substitute_in_long`: Detalles de las sustituciones realizadas por cada equipo.\n",
        "- `Attendance`: Asistencia al estadio.\n",
        "- `Venue`: Estadio donde se jugó el partido.\n",
        "- `Officials`: Árbitros del partido.\n",
        "- `Round`: Ronda en la que se jugó el partido.\n",
        "- `Date`: Fecha del partido.\n",
        "- `Score`: Marcador final del partido.\n",
        "- `Referee`: Árbitro principal.\n",
        "- `Notes`: Notas adicionales del partido.\n",
        "- `Host`: País anfitrión.\n",
        "- `Year`: Año en el que se jugó el partido."
      ]
    },
    {
      "cell_type": "markdown",
      "metadata": {
        "id": "W-Si6UOxPMFL"
      },
      "source": [
        "Con este conjunto de datos se pueden abordar diferentes problemáticas como las siguientes:\n",
        "- ¿La métrica de goles esperados (xG) es una buena métrica para evaluar el rendimiento de un equipo?\n",
        "- ¿Cuáles son la variables más correlacionadas con el resultado del partido?\n",
        "- ¿El número de tarjetas amarillas o rojas es mayor en los partidos de la fase eliminatoria que en la de los grupos?\n",
        "- ¿Se puede predecir el resultado del desempate con los datos del partido?\n",
        "\n",
        "Las respuestas a estas preguntas pueden, por un lado, orientar a los directores técnicos de cada equipo para plantear estrategias que les favorezca, dependiendo del escenario en el que se encuentre; por otro lado, podría ser utilizado por las personas que realizan apuestas, o casas de apuestas, para mejorar sus decisiones."
      ]
    },
    {
      "cell_type": "markdown",
      "metadata": {
        "id": "PNoNwP65PMFM"
      },
      "source": [
        "## 2. Integración y selección de los datos de interés a analizar. \n",
        "\n",
        "Puede ser el resultado de adicionar diferentes datasets o una subselección útil de los datos originales, en base al objetivo que se quiera conseguir."
      ]
    },
    {
      "cell_type": "markdown",
      "metadata": {
        "id": "QdxPWkinPMFN"
      },
      "source": [
        "Dado que en el análisis no es relevante datos como los nombres de directores o jugadores, tomaremos únicamente las siguientes variables de las cuales podremos obtener la información necesaria:\n",
        "\n",
        "- `home_score` \n",
        "- `home_xg`  \n",
        "- `home_penalty` \n",
        "- `away_score` \n",
        "- `away_xg`\n",
        "- `away_penalty`\n",
        "- `Round`\n",
        "- `home_penalty_goal`\n",
        "- `away_penalty_goal`\n",
        "-  `home_penalty_miss_long` \n",
        "-  `away_penalty_miss_long` \n",
        "-  `home_red_card` \n",
        "-  `away_red_card` \n",
        "-  `home_yellow_card_long` \n",
        "-  `away_yellow_card_long` \n",
        "-  `home_substitute_in_long` \n",
        "-  `away_substitute_in_long`\n",
        "\n",
        "Además, varias de estas variables tienen un nivel de detalle que no se involucrará en el análisis, por ejemplo, el `home_penalty_goal` posee la información de quién anotó el penal y el minuto; de esto solo nos interesa cuántos penales se anotaron, por lo cual, dividimos la lista por el separador y contamos la cantidad de datos. Esto lo guardamos con el mismo nombre de columna.\n",
        "\n",
        "Por otro lado, la variable `Round` la refactorizamos para unicamente contar con la información de si es un partido de la etapa de grupos o de la eliminatoria.\n",
        "\n",
        "Finalmente, generamos una variable que nos indique cuál fue el resultado, en la cual colocamos 1 si el equipo local ganó, -1 si perdió y 0 si empató."
      ]
    },
    {
      "cell_type": "code",
      "execution_count": null,
      "metadata": {
        "id": "XyYvIV4hPMFO",
        "outputId": "abf5ce0f-50c4-4094-8766-9314babaa672"
      },
      "outputs": [
        {
          "data": {
            "text/html": [
              "<div>\n",
              "<style scoped>\n",
              "    .dataframe tbody tr th:only-of-type {\n",
              "        vertical-align: middle;\n",
              "    }\n",
              "\n",
              "    .dataframe tbody tr th {\n",
              "        vertical-align: top;\n",
              "    }\n",
              "\n",
              "    .dataframe thead th {\n",
              "        text-align: right;\n",
              "    }\n",
              "</style>\n",
              "<table border=\"1\" class=\"dataframe\">\n",
              "  <thead>\n",
              "    <tr style=\"text-align: right;\">\n",
              "      <th></th>\n",
              "      <th>home_score</th>\n",
              "      <th>home_xg</th>\n",
              "      <th>home_penalty</th>\n",
              "      <th>away_score</th>\n",
              "      <th>away_xg</th>\n",
              "      <th>away_penalty</th>\n",
              "      <th>home_penalty_goal</th>\n",
              "      <th>away_penalty_goal</th>\n",
              "      <th>home_penalty_miss_long</th>\n",
              "      <th>away_penalty_miss_long</th>\n",
              "      <th>home_red_card</th>\n",
              "      <th>away_red_card</th>\n",
              "      <th>home_yellow_card_long</th>\n",
              "      <th>away_yellow_card_long</th>\n",
              "      <th>home_substitute_in_long</th>\n",
              "      <th>away_substitute_in_long</th>\n",
              "      <th>round</th>\n",
              "      <th>result</th>\n",
              "    </tr>\n",
              "  </thead>\n",
              "  <tbody>\n",
              "    <tr>\n",
              "      <th>0</th>\n",
              "      <td>3</td>\n",
              "      <td>3.3</td>\n",
              "      <td>4.0</td>\n",
              "      <td>3</td>\n",
              "      <td>2.2</td>\n",
              "      <td>2.0</td>\n",
              "      <td>1.0</td>\n",
              "      <td>2.0</td>\n",
              "      <td>NaN</td>\n",
              "      <td>NaN</td>\n",
              "      <td>NaN</td>\n",
              "      <td>NaN</td>\n",
              "      <td>5.0</td>\n",
              "      <td>3.0</td>\n",
              "      <td>6.0</td>\n",
              "      <td>7.0</td>\n",
              "      <td>1</td>\n",
              "      <td>1</td>\n",
              "    </tr>\n",
              "    <tr>\n",
              "      <th>1</th>\n",
              "      <td>2</td>\n",
              "      <td>0.7</td>\n",
              "      <td>NaN</td>\n",
              "      <td>1</td>\n",
              "      <td>1.2</td>\n",
              "      <td>NaN</td>\n",
              "      <td>NaN</td>\n",
              "      <td>NaN</td>\n",
              "      <td>NaN</td>\n",
              "      <td>NaN</td>\n",
              "      <td>NaN</td>\n",
              "      <td>NaN</td>\n",
              "      <td>NaN</td>\n",
              "      <td>2.0</td>\n",
              "      <td>4.0</td>\n",
              "      <td>5.0</td>\n",
              "      <td>1</td>\n",
              "      <td>1</td>\n",
              "    </tr>\n",
              "    <tr>\n",
              "      <th>2</th>\n",
              "      <td>2</td>\n",
              "      <td>2.0</td>\n",
              "      <td>NaN</td>\n",
              "      <td>0</td>\n",
              "      <td>0.9</td>\n",
              "      <td>NaN</td>\n",
              "      <td>NaN</td>\n",
              "      <td>NaN</td>\n",
              "      <td>NaN</td>\n",
              "      <td>NaN</td>\n",
              "      <td>NaN</td>\n",
              "      <td>NaN</td>\n",
              "      <td>NaN</td>\n",
              "      <td>1.0</td>\n",
              "      <td>2.0</td>\n",
              "      <td>5.0</td>\n",
              "      <td>1</td>\n",
              "      <td>1</td>\n",
              "    </tr>\n",
              "    <tr>\n",
              "      <th>3</th>\n",
              "      <td>3</td>\n",
              "      <td>2.3</td>\n",
              "      <td>NaN</td>\n",
              "      <td>0</td>\n",
              "      <td>0.5</td>\n",
              "      <td>NaN</td>\n",
              "      <td>1.0</td>\n",
              "      <td>NaN</td>\n",
              "      <td>NaN</td>\n",
              "      <td>NaN</td>\n",
              "      <td>NaN</td>\n",
              "      <td>NaN</td>\n",
              "      <td>2.0</td>\n",
              "      <td>2.0</td>\n",
              "      <td>5.0</td>\n",
              "      <td>5.0</td>\n",
              "      <td>1</td>\n",
              "      <td>1</td>\n",
              "    </tr>\n",
              "    <tr>\n",
              "      <th>4</th>\n",
              "      <td>1</td>\n",
              "      <td>1.4</td>\n",
              "      <td>NaN</td>\n",
              "      <td>0</td>\n",
              "      <td>0.9</td>\n",
              "      <td>NaN</td>\n",
              "      <td>NaN</td>\n",
              "      <td>NaN</td>\n",
              "      <td>NaN</td>\n",
              "      <td>NaN</td>\n",
              "      <td>NaN</td>\n",
              "      <td>NaN</td>\n",
              "      <td>2.0</td>\n",
              "      <td>1.0</td>\n",
              "      <td>5.0</td>\n",
              "      <td>5.0</td>\n",
              "      <td>1</td>\n",
              "      <td>1</td>\n",
              "    </tr>\n",
              "  </tbody>\n",
              "</table>\n",
              "</div>"
            ],
            "text/plain": [
              "   home_score  home_xg  home_penalty  away_score  away_xg  away_penalty  \\\n",
              "0           3      3.3           4.0           3      2.2           2.0   \n",
              "1           2      0.7           NaN           1      1.2           NaN   \n",
              "2           2      2.0           NaN           0      0.9           NaN   \n",
              "3           3      2.3           NaN           0      0.5           NaN   \n",
              "4           1      1.4           NaN           0      0.9           NaN   \n",
              "\n",
              "   home_penalty_goal  away_penalty_goal  home_penalty_miss_long  \\\n",
              "0                1.0                2.0                     NaN   \n",
              "1                NaN                NaN                     NaN   \n",
              "2                NaN                NaN                     NaN   \n",
              "3                1.0                NaN                     NaN   \n",
              "4                NaN                NaN                     NaN   \n",
              "\n",
              "   away_penalty_miss_long  home_red_card  away_red_card  \\\n",
              "0                     NaN            NaN            NaN   \n",
              "1                     NaN            NaN            NaN   \n",
              "2                     NaN            NaN            NaN   \n",
              "3                     NaN            NaN            NaN   \n",
              "4                     NaN            NaN            NaN   \n",
              "\n",
              "   home_yellow_card_long  away_yellow_card_long  home_substitute_in_long  \\\n",
              "0                    5.0                    3.0                      6.0   \n",
              "1                    NaN                    2.0                      4.0   \n",
              "2                    NaN                    1.0                      2.0   \n",
              "3                    2.0                    2.0                      5.0   \n",
              "4                    2.0                    1.0                      5.0   \n",
              "\n",
              "   away_substitute_in_long  round  result  \n",
              "0                      7.0      1       1  \n",
              "1                      5.0      1       1  \n",
              "2                      5.0      1       1  \n",
              "3                      5.0      1       1  \n",
              "4                      5.0      1       1  "
            ]
          },
          "execution_count": 6,
          "metadata": {},
          "output_type": "execute_result"
        }
      ],
      "source": [
        "# Carga de los datos\n",
        "df = pd.read_csv('data/matches_1930_2022.csv')\n",
        "\n",
        "# Selección de las columnas que contarán en el análisis\n",
        "columnas = [ 'Round',\n",
        "       'home_score', 'home_xg', 'home_penalty',\n",
        "       'away_score', 'away_xg', 'away_penalty',\n",
        "       'home_penalty_goal', 'away_penalty_goal', \n",
        "       'home_penalty_miss_long', 'away_penalty_miss_long',\n",
        "       'home_red_card', 'away_red_card',\n",
        "       'home_yellow_card_long', 'away_yellow_card_long', \n",
        "       'home_substitute_in_long', 'away_substitute_in_long']\n",
        "df = df[columnas]\n",
        "\n",
        "\n",
        "# Crear una lista con los nombres de las columnas en las que se debe contar los elementos\n",
        "columnas = ['home_penalty_goal', 'away_penalty_goal',\n",
        "           'home_red_card', 'away_red_card']\n",
        "\n",
        "# Contar la cantidad de elementos de las columnas\n",
        "for columna in columnas:\n",
        "    df[columna] = df[columna].str.split('|').str.len()\n",
        "\n",
        "\n",
        "# Crear una lista con los nombres de las columnas en las que se debe contar los elementos\n",
        "columnas = ['home_penalty_miss_long', 'away_penalty_miss_long',\n",
        "           'home_yellow_card_long', 'away_yellow_card_long',\n",
        "           'home_substitute_in_long', 'away_substitute_in_long']\n",
        "\n",
        "# Contar la cantidad de elementos de las columnas\n",
        "for columna in columnas:\n",
        "    df[columna] = df[columna].str.split(',').str.len()\n",
        "\n",
        "# Variable round 0 en fase de grupos y 1 clasificatoria\n",
        "df['round'] = np.where(df['Round'] == \"Group stage\", 0, 1)\n",
        "df = df.drop(['Round'], axis=1)\n",
        "\n",
        "# Variable resultado: 1 si ganó home -1 si ganó away, 0 si empataron.\n",
        "df['result'] = np.where(df['home_penalty'] > df['away_penalty'], 1, 0)\n",
        "df['result'] = np.where(df['home_penalty'] < df['away_penalty'], -1, df['result'])\n",
        "df['result'] = np.where(df['home_score'] > df['away_score'], 1,  df['result'])\n",
        "df['result'] = np.where(df['home_score'] < df['away_score'], -1,  df['result'])\n",
        "\n",
        "# Visualización de los datos\n",
        "df.head()"
      ]
    },
    {
      "cell_type": "markdown",
      "metadata": {
        "id": "i6WZN8MMPMFP"
      },
      "source": [
        "## 3. Limpieza de los datos"
      ]
    },
    {
      "cell_type": "markdown",
      "metadata": {
        "id": "jDAWRRsvPMFQ"
      },
      "source": [
        "### 3.1 Gestión de ceros o elementos vacíos"
      ]
    },
    {
      "cell_type": "markdown",
      "metadata": {
        "id": "zTlQsUsjPMFQ"
      },
      "source": [
        "Revisamos la información de los datos:"
      ]
    },
    {
      "cell_type": "code",
      "execution_count": null,
      "metadata": {
        "id": "inwxUokZPMFQ",
        "outputId": "57dfd86c-6848-43c7-ba77-d137ebddd5af"
      },
      "outputs": [
        {
          "name": "stdout",
          "output_type": "stream",
          "text": [
            "<class 'pandas.core.frame.DataFrame'>\n",
            "RangeIndex: 964 entries, 0 to 963\n",
            "Data columns (total 18 columns):\n",
            " #   Column                   Non-Null Count  Dtype  \n",
            "---  ------                   --------------  -----  \n",
            " 0   home_score               964 non-null    int64  \n",
            " 1   home_xg                  128 non-null    float64\n",
            " 2   home_penalty             35 non-null     float64\n",
            " 3   away_score               964 non-null    int64  \n",
            " 4   away_xg                  128 non-null    float64\n",
            " 5   away_penalty             35 non-null     float64\n",
            " 6   home_penalty_goal        116 non-null    float64\n",
            " 7   away_penalty_goal        84 non-null     float64\n",
            " 8   home_penalty_miss_long   6 non-null      float64\n",
            " 9   away_penalty_miss_long   9 non-null      float64\n",
            " 10  home_red_card            51 non-null     float64\n",
            " 11  away_red_card            54 non-null     float64\n",
            " 12  home_yellow_card_long    621 non-null    float64\n",
            " 13  away_yellow_card_long    627 non-null    float64\n",
            " 14  home_substitute_in_long  740 non-null    float64\n",
            " 15  away_substitute_in_long  747 non-null    float64\n",
            " 16  round                    964 non-null    int32  \n",
            " 17  result                   964 non-null    int32  \n",
            "dtypes: float64(14), int32(2), int64(2)\n",
            "memory usage: 128.2 KB\n"
          ]
        }
      ],
      "source": [
        "# Revisión de la información del dataset\n",
        "df.info()"
      ]
    },
    {
      "cell_type": "markdown",
      "metadata": {
        "id": "vnd38M-KPMFR"
      },
      "source": [
        "Podemos apreciar que la mayoría de variables tienen datos nulos, los cuales corresponden, por ejemplo, en la variable `home_penalty`, a que no se anotaron penales en ese partido. Por esta razón, en todas las variables de este estilo, imputamos el valor nulo por 0. "
      ]
    },
    {
      "cell_type": "code",
      "execution_count": null,
      "metadata": {
        "id": "-FnTmVcnPMFR",
        "outputId": "f1f14aed-802a-46e1-d217-6fb4c9b40c40"
      },
      "outputs": [
        {
          "name": "stdout",
          "output_type": "stream",
          "text": [
            "<class 'pandas.core.frame.DataFrame'>\n",
            "RangeIndex: 964 entries, 0 to 963\n",
            "Data columns (total 18 columns):\n",
            " #   Column                   Non-Null Count  Dtype  \n",
            "---  ------                   --------------  -----  \n",
            " 0   home_score               964 non-null    int64  \n",
            " 1   home_xg                  128 non-null    float64\n",
            " 2   home_penalty             964 non-null    float64\n",
            " 3   away_score               964 non-null    int64  \n",
            " 4   away_xg                  128 non-null    float64\n",
            " 5   away_penalty             964 non-null    float64\n",
            " 6   home_penalty_goal        964 non-null    float64\n",
            " 7   away_penalty_goal        964 non-null    float64\n",
            " 8   home_penalty_miss_long   964 non-null    float64\n",
            " 9   away_penalty_miss_long   964 non-null    float64\n",
            " 10  home_red_card            964 non-null    float64\n",
            " 11  away_red_card            964 non-null    float64\n",
            " 12  home_yellow_card_long    964 non-null    float64\n",
            " 13  away_yellow_card_long    964 non-null    float64\n",
            " 14  home_substitute_in_long  964 non-null    float64\n",
            " 15  away_substitute_in_long  964 non-null    float64\n",
            " 16  round                    964 non-null    int32  \n",
            " 17  result                   964 non-null    int32  \n",
            "dtypes: float64(14), int32(2), int64(2)\n",
            "memory usage: 128.2 KB\n"
          ]
        }
      ],
      "source": [
        "# Crear una lista con los nombres de las columnas en las que se debe contar los elementos\n",
        "columnas = ['home_penalty', 'away_penalty',\n",
        "            'home_penalty_goal', 'away_penalty_goal',\n",
        "            'home_red_card', 'away_red_card', \n",
        "            'home_penalty_miss_long', 'away_penalty_miss_long',\n",
        "            'home_yellow_card_long', 'away_yellow_card_long',\n",
        "            'home_substitute_in_long', 'away_substitute_in_long']\n",
        "\n",
        "# Cambio de los valores nulos por 0\n",
        "for columna in columnas:\n",
        "    df[columna] = df[columna].fillna(0)\n",
        "\n",
        "# Revisión de la información del dataset\n",
        "df.info()"
      ]
    },
    {
      "cell_type": "markdown",
      "metadata": {
        "id": "Tlig5AMKPMFS"
      },
      "source": [
        "Podemos apreciar que continuamos con valores nulos en las variables relacionadas con la métrica de goles esperados. Esto se debe a que, antes de 2018, no se contaba con esta medida. Por esta razón, lo dejaremos como valor perdido y tendremos en cuenta cuando se realicen los análisis correspondientes."
      ]
    },
    {
      "cell_type": "markdown",
      "metadata": {
        "id": "YZWT3-D-PMFS"
      },
      "source": [
        "### 3.2 Identificar y gestionar los valores extremos"
      ]
    },
    {
      "cell_type": "markdown",
      "metadata": {
        "id": "OgYyF9AAPMFS"
      },
      "source": [
        "Dado que algunas de las variables tienen valores igual a 0 en la mayoría de registros pues, por ejemplo, en la mayoría de partidos se tiene 0 goles de penal, vamos a dividir el análisis de valores extremos en dos etapas. \n",
        "\n",
        "Primero analizaremos los valores extremos de las variables que suelen tomar valores diferentes de 0:"
      ]
    },
    {
      "cell_type": "code",
      "execution_count": null,
      "metadata": {
        "id": "BeOyLovqPMFS",
        "outputId": "be42ca63-ebbc-4c49-a8bb-3d70ebb8b98a"
      },
      "outputs": [
        {
          "data": {
            "image/png": "[encoded data removed]",
            "text/plain": [
              "<Figure size 576x432 with 6 Axes>"
            ]
          },
          "metadata": {
            "needs_background": "light"
          },
          "output_type": "display_data"
        }
      ],
      "source": [
        "# Generación de gráficos boxplot de cada variable\n",
        "columnas = ['home_score', 'away_score',\n",
        "            'home_yellow_card_long', 'away_yellow_card_long',\n",
        "            'home_substitute_in_long', 'away_substitute_in_long']\n",
        "\n",
        "# Subplots\n",
        "fig, ax = plt.subplots(3, 2, figsize=(8, 6))\n",
        "plt.subplots_adjust(hspace=0.4)\n",
        "\n",
        "# Generación de los boxplot\n",
        "for columna in columnas:\n",
        "    i = columnas.index(columna) // 2\n",
        "    j = columnas.index(columna) % 2\n",
        "    sns.boxplot(x=df[columna], ax=ax[i,j])"
      ]
    },
    {
      "cell_type": "markdown",
      "metadata": {
        "id": "711uPxIpPMFT"
      },
      "source": [
        "A pesar de que todos los valores extremos son válidos, pueden ocasionar problemas al momento de realizar un análisis de relación o de predicción. Procedemos a contabilizar la cantidad de estos valores:"
      ]
    },
    {
      "cell_type": "code",
      "execution_count": null,
      "metadata": {
        "id": "daUQkBM1PMFT",
        "outputId": "4f221423-efcb-4893-c7b1-f13afc243239"
      },
      "outputs": [
        {
          "name": "stdout",
          "output_type": "stream",
          "text": [
            "Cantidad de valores extremos en home_score: 15\n",
            "Cantidad de valores extremos en away_score: 3\n",
            "Cantidad de valores extremos en home_yellow_card_long: 10\n",
            "Cantidad de valores extremos en away_yellow_card_long: 6\n",
            "Cantidad de valores extremos en home_substitute_in_long: 0\n",
            "Cantidad de valores extremos en away_substitute_in_long: 1\n",
            "Total de registros con valores extremos: 33\n"
          ]
        }
      ],
      "source": [
        "# Cálculo de cantidad de valores extremos\n",
        "columnas = ['home_score', 'away_score',\n",
        "            'home_yellow_card_long', 'away_yellow_card_long',\n",
        "            'home_substitute_in_long', 'away_substitute_in_long']\n",
        "\n",
        "# Cálculo de cantidad de valores extremos\n",
        "df['outliers'] = 0\t\n",
        "for columna in columnas:\n",
        "    q1 = df[columna].quantile(0.25)\n",
        "    q3 = df[columna].quantile(0.75)\n",
        "    iqr = q3 - q1\n",
        "    df[columna + '_outliers'] = np.where((df[columna] < (q1 - 1.5 * iqr)) | (df[columna] > (q3 + 1.5 * iqr)), 1, 0)\n",
        "    print(f\"Cantidad de valores extremos en {columna}: {df[columna + '_outliers'].sum()}\")\n",
        "    df['outliers'] = df['outliers'] + df[columna + '_outliers']\n",
        "\n",
        "# Total de registros con valores extremos\n",
        "print('Total de registros con valores extremos: {}'.format(df[df['outliers']>0].shape[0]))"
      ]
    },
    {
      "cell_type": "markdown",
      "metadata": {
        "id": "ZfPEVI2tPMFU"
      },
      "source": [
        "Dado que los 33 registros no son significativos comparado al tamaño del conjunto de datos (3.4%), procedemos a eliminarlos."
      ]
    },
    {
      "cell_type": "code",
      "execution_count": null,
      "metadata": {
        "id": "NWoIJt5hPMFU",
        "outputId": "13263259-5cea-462c-a8d0-8cd51e319c1a"
      },
      "outputs": [
        {
          "name": "stdout",
          "output_type": "stream",
          "text": [
            "Total de registros: (931, 18)\n"
          ]
        }
      ],
      "source": [
        "# Eliminación de los registros atípicos\n",
        "df = df[df['outliers']==0]\n",
        "\n",
        "# Eliminación de las columnas de outliers\n",
        "df = df.drop([columna + '_outliers' for columna in columnas], axis=1)\n",
        "df = df.drop(['outliers'], axis=1)\n",
        "\n",
        "print(f\"Total de registros: {df.shape}\")"
      ]
    },
    {
      "cell_type": "markdown",
      "metadata": {
        "id": "Baq5l-jjPMFU"
      },
      "source": [
        "Ahora, realizamos los gráficos del resto de variables, pero omitimos los datos iguales a 0."
      ]
    },
    {
      "cell_type": "code",
      "execution_count": null,
      "metadata": {
        "id": "e31fDukpPMFU",
        "outputId": "4ca6c9e2-43e4-4fde-f32b-fad19022a91d"
      },
      "outputs": [
        {
          "data": {
            "image/png": "[encoded data removed]",
            "text/plain": [
              "<Figure size 576x1008 with 16 Axes>"
            ]
          },
          "metadata": {
            "needs_background": "light"
          },
          "output_type": "display_data"
        }
      ],
      "source": [
        "# Generación de gráficos boxplot de cada variable\n",
        "columnas = ['home_penalty', 'away_penalty', 'home_penalty_goal', 'away_penalty_goal',\n",
        "       'home_penalty_miss_long', 'away_penalty_miss_long', 'home_red_card',\n",
        "       'away_red_card']\n",
        "\n",
        "# Subplots\n",
        "fig, ax = plt.subplots(8, 2, figsize=(8, 14))\n",
        "plt.subplots_adjust(wspace=0.3, hspace=0.5)\n",
        "\n",
        "# Generación de los histogramas\n",
        "for columna in columnas:\n",
        "    i = columnas.index(columna)\n",
        "    sns.boxplot(x=df[df[columna]>0][columna], ax=ax[i,0])\n",
        "    sns.histplot(x=df[df[columna]>0][columna], ax=ax[i,1])"
      ]
    },
    {
      "cell_type": "markdown",
      "metadata": {
        "id": "BUwLFt4NPMFV"
      },
      "source": [
        "Observamos que, bajo esta consideración, no se tienen valores extremos.\n",
        "\n",
        "Para finalizar, guardamos los datos en un archivo csv."
      ]
    },
    {
      "cell_type": "code",
      "execution_count": null,
      "metadata": {
        "id": "nXJ9RW-fPMFV"
      },
      "outputs": [],
      "source": [
        "# Guardado del conjunto de datos\n",
        "df.to_csv('data/matches_1930_2022_clean.csv', index=False)"
      ]
    },
    {
      "cell_type": "markdown",
      "metadata": {
        "id": "ndSUq157PMFV"
      },
      "source": [
        "## 4. Análisis de los datos"
      ]
    },
    {
      "cell_type": "markdown",
      "metadata": {
        "id": "Ap7zLzSMPMFW"
      },
      "source": [
        "### 4.1. Selección de los grupos de datos que se quieren analizar/comparar "
      ]
    },
    {
      "cell_type": "markdown",
      "metadata": {
        "id": "NmUIslZ2PMFW"
      },
      "source": [
        "Para la segmentación de los grupos, se usará si el partido pertenece a la fase de grupos o a la de eliminatoria. Estos grupos podrían presentar diferencias dado que los partidos de eliminatoria son más decisivos. Por otro lado, también se dividirá por el resultado del partido, para ver si hay diferencias entre los partidos ganados, perdidos o empatados."
      ]
    },
    {
      "cell_type": "code",
      "execution_count": null,
      "metadata": {
        "id": "6gcopwq_PMFW"
      },
      "outputs": [],
      "source": [
        "# Agrupación por etapa\n",
        "df_groups = df[df['round']==0].copy()\n",
        "df_playoff = df[df['round']==1].copy()\n",
        "\n",
        "# Agrupación por resultado\n",
        "df_win = df[df['result']==1].copy()\n",
        "df_draw = df[df['result']==0].copy()\n",
        "df_lose = df[df['result']==-1].copy()"
      ]
    },
    {
      "cell_type": "markdown",
      "metadata": {
        "id": "1NP8QAffPMFW"
      },
      "source": [
        "### 4.2. Comprobación de la normalidad y homogeneidad de la varianza"
      ]
    },
    {
      "cell_type": "markdown",
      "metadata": {
        "id": "BeVuZmg2PMFW"
      },
      "source": [
        "Analizaremos la normalidad de los datos utilizando el test de Kolmogorov-Smirnov ya que tenemos una cantidad considerable de datos  y hemos eliminado los datos extremos. Analizando si el $p$ valor es mayor a 0.05, podemos concluir que es probable que la variable tenga una distribución normal."
      ]
    },
    {
      "cell_type": "code",
      "execution_count": null,
      "metadata": {
        "id": "00JjgydhPMFX",
        "outputId": "6580aada-8064-4816-d15a-c9cd51dd7377"
      },
      "outputs": [
        {
          "name": "stdout",
          "output_type": "stream",
          "text": [
            "La columna away_substitute_in_long posiblemente sigue una distribución normal.\n"
          ]
        }
      ],
      "source": [
        "for columna in df:\n",
        "    _, p = normaltest(df[columna])\n",
        "    if p > 0.05:\n",
        "        print(f\"La columna {columna} probablemente sigue una distribución normal.\")"
      ]
    },
    {
      "cell_type": "markdown",
      "metadata": {
        "id": "7EzACk2ZPMFX"
      },
      "source": [
        "Con esto, tenemos que solo una variable, `away_substitute_in_long`, probablememnte posee una distribución normal."
      ]
    },
    {
      "cell_type": "markdown",
      "metadata": {
        "id": "Ul7D92LGPMFX"
      },
      "source": [
        "Ahora, para analizar la homogeneidad de la varianza, utilizaremos el test de Levene. Iniciaremos comparando los datos entre los partidos de grupos y de eliminatoria."
      ]
    },
    {
      "cell_type": "code",
      "execution_count": null,
      "metadata": {
        "id": "NSaG7iE6PMFX",
        "outputId": "2f26fb7b-4e2a-4891-86a1-bca641f062e3"
      },
      "outputs": [
        {
          "name": "stdout",
          "output_type": "stream",
          "text": [
            "La varianza de la columna home_score en ambos dataframes es diferente.\n",
            "La varianza de la columna home_penalty en ambos dataframes es diferente.\n",
            "La varianza de la columna away_score en ambos dataframes es diferente.\n",
            "La varianza de la columna away_penalty en ambos dataframes es diferente.\n",
            "La varianza de la columna away_red_card en ambos dataframes es diferente.\n",
            "La varianza de la columna away_substitute_in_long en ambos dataframes es diferente.\n",
            "La varianza de la columna result en ambos dataframes es diferente.\n"
          ]
        }
      ],
      "source": [
        "for columna in df:\n",
        "    _, p = levene(df_groups[columna], df_playoff[columna])\n",
        "    if p <= 0.05:\n",
        "        print(f\"La varianza de la columna {columna} en ambos dataframes es diferente.\")"
      ]
    },
    {
      "cell_type": "markdown",
      "metadata": {
        "id": "iktT-fArPMFY"
      },
      "source": [
        "Tenemos que 7 variables no tienen homogeneidad en la varianza.\n",
        "\n",
        "Ahora, realizamos lo mismo entre los grupos de partidos ganados, perdidos y empatados."
      ]
    },
    {
      "cell_type": "code",
      "execution_count": null,
      "metadata": {
        "id": "_U93gaByPMFY",
        "outputId": "9fad1531-f599-4c8f-95a0-5c8ab338f48a"
      },
      "outputs": [
        {
          "name": "stdout",
          "output_type": "stream",
          "text": [
            "La varianza de la columna home_score en ambos dataframes es diferente.\n",
            "La varianza de la columna home_penalty en ambos dataframes es diferente.\n",
            "La varianza de la columna away_score en ambos dataframes es diferente.\n",
            "La varianza de la columna away_penalty en ambos dataframes es diferente.\n",
            "La varianza de la columna home_penalty_goal en ambos dataframes es diferente.\n",
            "La varianza de la columna away_penalty_goal en ambos dataframes es diferente.\n",
            "La varianza de la columna home_red_card en ambos dataframes es diferente.\n",
            "La varianza de la columna away_red_card en ambos dataframes es diferente.\n",
            "La varianza de la columna home_substitute_in_long en ambos dataframes es diferente.\n",
            "La varianza de la columna away_substitute_in_long en ambos dataframes es diferente.\n",
            "La varianza de la columna round en ambos dataframes es diferente.\n"
          ]
        }
      ],
      "source": [
        "for columna in df:\n",
        "    _, p = levene(df_win[columna],df_draw[columna] , df_lose[columna])\n",
        "    if p <= 0.05:\n",
        "        print(f\"La varianza de la columna {columna} en ambos dataframes es diferente.\")"
      ]
    },
    {
      "cell_type": "markdown",
      "metadata": {
        "id": "cHMDUczLPMFY"
      },
      "source": [
        "Como era de esperarse, tenemos más variables que presentan diferencias en la varianza."
      ]
    },
    {
      "cell_type": "markdown",
      "metadata": {
        "id": "AghRp4dvPMFY"
      },
      "source": [
        "### 4.3. Aplicación de pruebas estadísticas para comparar los grupos de datos.\n",
        "\n",
        "En función de los datos y el objetivo del estudio, aplicar pruebas de contraste de hipótesis, correlaciones, regresiones, etc. Aplicar al menos tres métodos de análisis diferentes."
      ]
    },
    {
      "cell_type": "markdown",
      "metadata": {
        "id": "PCwZwTUaPMFZ"
      },
      "source": [
        "Iniciamos analizando la correlación entre la cantidad de goles anotados y la cantidad de goles esperados."
      ]
    },
    {
      "cell_type": "code",
      "execution_count": null,
      "metadata": {
        "id": "AApDNqrMPMFZ",
        "outputId": "b20172f8-25b3-4ad9-abdd-89ab3b884041"
      },
      "outputs": [
        {
          "name": "stdout",
          "output_type": "stream",
          "text": [
            "La correlación entre col_1 y col_2 es:  0.5474207148146943\n",
            "p-valor : 3.6459353590661565e-20\n"
          ]
        }
      ],
      "source": [
        "# Extracción de las columnas \n",
        "col_1_home = df[df[\"home_xg\"].notnull()][\"home_xg\"]\n",
        "col_2_home = df[df[\"home_xg\"].notnull()][\"home_score\"]\n",
        "col_1_away = df[df[\"away_xg\"].notnull()][\"away_xg\"]\n",
        "col_2_away = df[df[\"away_xg\"].notnull()][\"away_score\"]\n",
        "# Concatenación de las columnas\n",
        "col_1 = pd.concat([col_1_home, col_1_away])\n",
        "col_2 = pd.concat([col_2_home, col_2_away])\n",
        "# Cálculo de la correlación\n",
        "corr, p_value = pearsonr(col_1, col_2)\n",
        "# Impresión de los resultados\n",
        "print(\"La correlación entre col_1 y col_2 es: \", corr)\n",
        "print(\"p-valor :\",p_value)"
      ]
    },
    {
      "cell_type": "markdown",
      "metadata": {
        "id": "26v5vTE2PMFZ"
      },
      "source": [
        "Vemos que el nivel de correlación no es alto."
      ]
    },
    {
      "cell_type": "markdown",
      "metadata": {
        "id": "0cZAIMEFPMFZ"
      },
      "source": [
        "Ahora, analicemos la correlación entre las variables y el resultado del partido."
      ]
    },
    {
      "cell_type": "code",
      "execution_count": null,
      "metadata": {
        "id": "Os7NPvukPMFa",
        "outputId": "44cdda7d-a52a-4f45-a33c-f684616755a6"
      },
      "outputs": [
        {
          "data": {
            "image/png": "[encoded data removed]",
            "text/plain": [
              "<Figure size 576x432 with 1 Axes>"
            ]
          },
          "metadata": {
            "needs_background": "light"
          },
          "output_type": "display_data"
        }
      ],
      "source": [
        "# Cálculo de las correlaciones\n",
        "corr = df.drop([\"result\"], axis=1).apply(lambda col: col.corr(df[\"result\"]))\n",
        "corr = corr.sort_values(ascending=False)\n",
        "# Generación del gráfico\n",
        "fig, ax = plt.subplots(figsize=(8, 6))\n",
        "corr.plot(kind='bar')\n",
        "plt.show()"
      ]
    },
    {
      "cell_type": "markdown",
      "metadata": {
        "id": "POrrnOSBPMFa"
      },
      "source": [
        "Tenemos que las variables más correlacionadas son la cantidad de goles y los goles esperados, en ambos equipos."
      ]
    },
    {
      "cell_type": "markdown",
      "metadata": {
        "id": "D7gbexbSPMFa"
      },
      "source": [
        "A continuación, analicemos si en un partido de la ronda eliminatoria se tienen más tarjetas que en los partidos de la fase de grupos.\n",
        "\n",
        "Para esto, la hipótesis nula sería que la media de tarjetas en los partidos en la fase eliminatoria es menor o igual a la media en la fase de grupos. La hipótesis alternativa sería que la media de tarjetas en la fase eliminatoria es mayor a la media en la fase de grupos.\n",
        "\n",
        "Dado que no tenemos normalidad en las variables, utilizamos la prueba no paramétrica de Mann-Whitney U."
      ]
    },
    {
      "cell_type": "code",
      "execution_count": null,
      "metadata": {
        "id": "Zcm-em-3PMFa",
        "outputId": "3c8fb367-98d5-4409-b5b7-6e9d7a6b2e12"
      },
      "outputs": [
        {
          "name": "stdout",
          "output_type": "stream",
          "text": [
            "p-valor:0.03543211223321652\n",
            "Rechazamos la hipótesis nula\n"
          ]
        }
      ],
      "source": [
        "tarjetas_playoff = df_playoff['home_yellow_card_long'] + df_playoff['away_yellow_card_long'] + df_playoff[\"home_red_card\"] + df_playoff[\"away_red_card\"]\n",
        "tarjetas_groups = df_groups['home_yellow_card_long'] + df_groups['away_yellow_card_long'] + df_groups[\"home_red_card\"] + df_groups[\"away_red_card\"]\n",
        "\n",
        "_, p = mannwhitneyu(tarjetas_playoff, tarjetas_groups)\n",
        "print(f\"p-valor:{p}\")\n",
        "if p/2 < 0.05:\n",
        "    print(\"Rechazamos la hipótesis nula\")\n",
        "else:\n",
        "    print(\"No rechazamos la hipótesis nula\")"
      ]
    },
    {
      "cell_type": "markdown",
      "metadata": {
        "id": "eofKAhtlPMFb"
      },
      "source": [
        "Al rechazar la hipótesis nula, tenemos que hay evidencia estadística para decir que en los partidos de fase eliminatoria se tienen más tarjetas que en los partidos de la fase de grupos."
      ]
    },
    {
      "cell_type": "markdown",
      "metadata": {
        "id": "gWzlI_qzPMFb"
      },
      "source": [
        "Finalmente, para revisar si es posible predecir los resultados del partido en función de los datos del mismo (omitiendo los datos relacionados a la cantidad de goles), planteamos un modelo de Árbol de decisión y lo entrenamos con el 80% de los datos para probarlo en el 20%."
      ]
    },
    {
      "cell_type": "code",
      "execution_count": null,
      "metadata": {
        "id": "kZDrXFiCPMFc",
        "outputId": "276f31da-8af3-4dda-9370-ee31257d8e70"
      },
      "outputs": [
        {
          "data": {
            "text/html": [
              "<style>#sk-container-id-1 {color: black;background-color: white;}#sk-container-id-1 pre{padding: 0;}#sk-container-id-1 div.sk-toggleable {background-color: white;}#sk-container-id-1 label.sk-toggleable__label {cursor: pointer;display: block;width: 100%;margin-bottom: 0;padding: 0.3em;box-sizing: border-box;text-align: center;}#sk-container-id-1 label.sk-toggleable__label-arrow:before {content: \"▸\";float: left;margin-right: 0.25em;color: #696969;}#sk-container-id-1 label.sk-toggleable__label-arrow:hover:before {color: black;}#sk-container-id-1 div.sk-estimator:hover label.sk-toggleable__label-arrow:before {color: black;}#sk-container-id-1 div.sk-toggleable__content {max-height: 0;max-width: 0;overflow: hidden;text-align: left;background-color: #f0f8ff;}#sk-container-id-1 div.sk-toggleable__content pre {margin: 0.2em;color: black;border-radius: 0.25em;background-color: #f0f8ff;}#sk-container-id-1 input.sk-toggleable__control:checked~div.sk-toggleable__content {max-height: 200px;max-width: 100%;overflow: auto;}#sk-container-id-1 input.sk-toggleable__control:checked~label.sk-toggleable__label-arrow:before {content: \"▾\";}#sk-container-id-1 div.sk-estimator input.sk-toggleable__control:checked~label.sk-toggleable__label {background-color: #d4ebff;}#sk-container-id-1 div.sk-label input.sk-toggleable__control:checked~label.sk-toggleable__label {background-color: #d4ebff;}#sk-container-id-1 input.sk-hidden--visually {border: 0;clip: rect(1px 1px 1px 1px);clip: rect(1px, 1px, 1px, 1px);height: 1px;margin: -1px;overflow: hidden;padding: 0;position: absolute;width: 1px;}#sk-container-id-1 div.sk-estimator {font-family: monospace;background-color: #f0f8ff;border: 1px dotted black;border-radius: 0.25em;box-sizing: border-box;margin-bottom: 0.5em;}#sk-container-id-1 div.sk-estimator:hover {background-color: #d4ebff;}#sk-container-id-1 div.sk-parallel-item::after {content: \"\";width: 100%;border-bottom: 1px solid gray;flex-grow: 1;}#sk-container-id-1 div.sk-label:hover label.sk-toggleable__label {background-color: #d4ebff;}#sk-container-id-1 div.sk-serial::before {content: \"\";position: absolute;border-left: 1px solid gray;box-sizing: border-box;top: 0;bottom: 0;left: 50%;z-index: 0;}#sk-container-id-1 div.sk-serial {display: flex;flex-direction: column;align-items: center;background-color: white;padding-right: 0.2em;padding-left: 0.2em;position: relative;}#sk-container-id-1 div.sk-item {position: relative;z-index: 1;}#sk-container-id-1 div.sk-parallel {display: flex;align-items: stretch;justify-content: center;background-color: white;position: relative;}#sk-container-id-1 div.sk-item::before, #sk-container-id-1 div.sk-parallel-item::before {content: \"\";position: absolute;border-left: 1px solid gray;box-sizing: border-box;top: 0;bottom: 0;left: 50%;z-index: -1;}#sk-container-id-1 div.sk-parallel-item {display: flex;flex-direction: column;z-index: 1;position: relative;background-color: white;}#sk-container-id-1 div.sk-parallel-item:first-child::after {align-self: flex-end;width: 50%;}#sk-container-id-1 div.sk-parallel-item:last-child::after {align-self: flex-start;width: 50%;}#sk-container-id-1 div.sk-parallel-item:only-child::after {width: 0;}#sk-container-id-1 div.sk-dashed-wrapped {border: 1px dashed gray;margin: 0 0.4em 0.5em 0.4em;box-sizing: border-box;padding-bottom: 0.4em;background-color: white;}#sk-container-id-1 div.sk-label label {font-family: monospace;font-weight: bold;display: inline-block;line-height: 1.2em;}#sk-container-id-1 div.sk-label-container {text-align: center;}#sk-container-id-1 div.sk-container {/* jupyter's `normalize.less` sets `[hidden] { display: none; }` but bootstrap.min.css set `[hidden] { display: none !important; }` so we also need the `!important` here to be able to override the default hidden behavior on the sphinx rendered scikit-learn.org. See: https://github.com/scikit-learn/scikit-learn/issues/21755 */display: inline-block !important;position: relative;}#sk-container-id-1 div.sk-text-repr-fallback {display: none;}</style><div id=\"sk-container-id-1\" class=\"sk-top-container\"><div class=\"sk-text-repr-fallback\"><pre>DecisionTreeClassifier()</pre><b>In a Jupyter environment, please rerun this cell to show the HTML representation or trust the notebook. <br />On GitHub, the HTML representation is unable to render, please try loading this page with nbviewer.org.</b></div><div class=\"sk-container\" hidden><div class=\"sk-item\"><div class=\"sk-estimator sk-toggleable\"><input class=\"sk-toggleable__control sk-hidden--visually\" id=\"sk-estimator-id-1\" type=\"checkbox\" checked><label for=\"sk-estimator-id-1\" class=\"sk-toggleable__label sk-toggleable__label-arrow\">DecisionTreeClassifier</label><div class=\"sk-toggleable__content\"><pre>DecisionTreeClassifier()</pre></div></div></div></div></div>"
            ],
            "text/plain": [
              "DecisionTreeClassifier()"
            ]
          },
          "execution_count": 69,
          "metadata": {},
          "output_type": "execute_result"
        }
      ],
      "source": [
        "# División en datos de entrenamiento y de prueba\n",
        "X = df.drop(['result'], axis=1)\n",
        "X = X.drop([\"home_xg\",\"away_xg\",\"home_penalty\", \"away_penalty\", \"home_score\", \"away_score\"], axis=1)\n",
        "y = df['result']\n",
        "X_train, X_test, y_train, y_test = train_test_split(X, y, test_size=0.2, random_state=7)\n",
        "\n",
        "# Creación del modelo\n",
        "clf = DecisionTreeClassifier()\n",
        "\n",
        "# Entrenamiento del modelo\n",
        "clf.fit(X_train, y_train)"
      ]
    },
    {
      "cell_type": "markdown",
      "metadata": {
        "id": "LtMvQ3GLPMFc"
      },
      "source": [
        "Generamos las predicciones y presentamos su exactitud y la matriz de confusión:"
      ]
    },
    {
      "cell_type": "code",
      "execution_count": null,
      "metadata": {
        "id": "EWhrIueLPMFc",
        "outputId": "bc5e572c-f905-4d17-9d13-2fec6a43cb9d"
      },
      "outputs": [
        {
          "name": "stdout",
          "output_type": "stream",
          "text": [
            "Exactitud: 0.50\n"
          ]
        },
        {
          "data": {
            "image/png": "[encoded data removed]",
            "text/plain": [
              "<Figure size 432x288 with 2 Axes>"
            ]
          },
          "metadata": {
            "needs_background": "light"
          },
          "output_type": "display_data"
        }
      ],
      "source": [
        "# Generación de predicciones\n",
        "y_pred = clf.predict(X_test)\n",
        "\n",
        "# Evaluación del modelo\n",
        "acc = accuracy_score(y_test, y_pred)\n",
        "print(\"Exactitud: {:.2f}\".format(acc))\n",
        "\n",
        "# Matriz de confunsión\n",
        "conf_mat = confusion_matrix(y_test, y_pred)\n",
        "sns.heatmap(conf_mat, annot=True, fmt='d', cmap='YlGnBu')\n",
        "plt.ylabel('Clase Verdadera')\n",
        "plt.xlabel('Clase Predicha')\n",
        "plt.show()"
      ]
    },
    {
      "cell_type": "markdown",
      "metadata": {
        "id": "Yg0-XZKqPMFd"
      },
      "source": [
        "Podemos ver que se alcanza una exactitud del 50%, es decir, el modelo no es mejor que un modelo aleatorio."
      ]
    },
    {
      "cell_type": "markdown",
      "metadata": {
        "id": "r0CDXU51PMFd"
      },
      "source": [
        "## 6. Resolución del problema. \n",
        "\n",
        "A partir de los resultados obtenidos, ¿cuáles son las conclusiones? ¿Los resultados permiten responder al problema?"
      ]
    },
    {
      "cell_type": "markdown",
      "metadata": {
        "id": "tqakEdByPMFd"
      },
      "source": [
        "\n",
        "1.   Uno de los elementos más controversiales presentados en los mundiales de fútbol, es saber con anticipación ¿quién va a ganar en cada partido?, ¿quién será el campeón?, entre otras inquietudes. Para resolver estas inquietudes, ha sido habitual recurrir a los datos estadísticos y su análisis, sin embargo, no ha habido un método adecuado que resuelva esta controversia.\n",
        "1. Con el avance de la tecnología, se ha desarrollado la Ciencia de Datos, la misma que cuenta con varios algoritmos de Inteligencia Artificial, que luego de un buen entrenamiento con una cantidad considerable de datos, ayudan a predecir ciertos eventos. En este sentido, el fútbol no ha sido la excepción y tomando en cuenta que ya existen experiencias exitosas, decidimos entrenar un árbol de regresión para determinar si es posible predecir el resultado del desempate con los datos generados en el partido. En el presente trabajo, hemos visto que esto no es posible, ya que la exactitud es apenas del 0.5, lo que equivale a usar el azhar. Esto quizá se deba a que los datos con los que se cuenta, no son sufientes. Quizá sea necersario medir el nivel de agotamiento físico y psicológico de los jugadores, entre otras variables posibles para mejorar el entrenamiento del modelo.\n",
        "\n",
        "1. A pesar de tener 964 registros, aparentemente un buen número para entrenar un algoritmo y obtener buenos resultados, parece ser que no es suficiente, como resultó en el caso de entrenar un árbol de decisión con las datos de un solo partido. Esto posiblemente se dé porque los mundiales de fútbol se realizan cada cuatro años, tiempo en el cual, muchas de las condiciones de cada uno de los equipos cambian, más aún de partido a partido; por ejemplo: el entrenado ya no es el mismo, algunos jugadores ya envejecieron, otros cambiaron de nacionalidad, hay jugadores que ya no pueden jugar ya sea por lesiones o por acumulación de tarjetas. Es así que en el último mundial, 2022, casi todas las selecciones acudieron con al menos un jugador nacionalizado.\n",
        "\n",
        "2. Con los resultados obtenidos, se ha podido resolver el problema en un cien porciento, aunque esto no signifique que todo es positivo, como la respuesta que se tiene a la pregunta de si se puede predecir el resultado del desempate con solo los datos obtenidos en el partido.\n",
        "\n",
        "\n"
      ]
    },
    {
      "cell_type": "markdown",
      "metadata": {
        "id": "sG9mzIgnPMFd"
      },
      "source": [
        "\n",
        "| Contribuciones | Firma |\n",
        "|----------------|-------|\n",
        "| Investigación previa | Andrés Merino Toapanta, Mario Cueva Almeida |\n",
        "| Redacción de las respuestas | Andrés Merino Toapanta, Mario Cueva Almeida |\n",
        "| Desarrollo del código | Andrés Merino Toapanta, Mario Cueva Almeida |\n",
        "| Participación en el vídeo | Andrés Merino Toapanta, Mario Cueva Almeida |\n"
      ]
    }
  ],
  "metadata": {
    "kernelspec": {
      "display_name": "Python 3",
      "language": "python",
      "name": "python3"
    },
    "language_info": {
      "codemirror_mode": {
        "name": "ipython",
        "version": 3
      },
      "file_extension": ".py",
      "mimetype": "text/x-python",
      "name": "python",
      "nbconvert_exporter": "python",
      "pygments_lexer": "ipython3",
      "version": "3.9.7"
    },
    "orig_nbformat": 4,
    "vscode": {
      "interpreter": {
        "hash": "be79a762ba4ffd2f67c2d75302119d14f6ad3f6d1d741cb3c0b0d63870ca24a9"
      }
    },
    "colab": {
      "provenance": []
    }
  },
  "nbformat": 4,
  "nbformat_minor": 0
}